{
  "nbformat": 4,
  "nbformat_minor": 0,
  "metadata": {
    "kernelspec": {
      "name": "python3",
      "display_name": "Python 3"
    },
    "language_info": {
      "codemirror_mode": {
        "name": "ipython",
        "version": 3
      },
      "file_extension": ".py",
      "mimetype": "text/x-python",
      "name": "python",
      "nbconvert_exporter": "python",
      "pygments_lexer": "ipython3",
      "version": "3.8.1"
    },
    "colab": {
      "name": "загрузка_дф_мсс30.ipynb",
      "provenance": [],
      "collapsed_sections": [],
      "toc_visible": true
    },
    "accelerator": "GPU"
  },
  "cells": [
    {
      "cell_type": "code",
      "metadata": {
        "id": "DtRDxJAORiZl",
        "colab_type": "code",
        "colab": {}
      },
      "source": [
        "import pandas as pd\n",
        "import numpy as np\n",
        "import torch.nn as nn\n",
        "import torch\n",
        "import librosa as lr\n",
        "from librosa import display\n",
        "import os\n",
        "import time\n",
        "import IPython.display as ipd\n",
        "from matplotlib.pyplot import specgram\n",
        "from sklearn.model_selection import train_test_split\n",
        "import matplotlib.pyplot as plt\n",
        "from sklearn.tree import DecisionTreeClassifier\n",
        "from sklearn.ensemble import RandomForestClassifier, GradientBoostingClassifier\n",
        "from sklearn.linear_model import LogisticRegression\n",
        "from sklearn.model_selection import GridSearchCV\n",
        "from sklearn.metrics import classification_report\n",
        "from sklearn.svm import SVC\n",
        "from sklearn.preprocessing import LabelEncoder\n",
        "import torch.optim as optim"
      ],
      "execution_count": 0,
      "outputs": []
    },
    {
      "cell_type": "code",
      "metadata": {
        "id": "2Qe0zHIiRiZu",
        "colab_type": "code",
        "outputId": "495c339e-3d50-4786-d684-482d84ca6706",
        "colab": {
          "base_uri": "https://localhost:8080/",
          "height": 34
        }
      },
      "source": [
        "os.getcwd()"
      ],
      "execution_count": 0,
      "outputs": [
        {
          "output_type": "execute_result",
          "data": {
            "text/plain": [
              "'/content'"
            ]
          },
          "metadata": {
            "tags": []
          },
          "execution_count": 2
        }
      ]
    },
    {
      "cell_type": "code",
      "metadata": {
        "id": "Qal5ZxOuRiZ2",
        "colab_type": "code",
        "colab": {}
      },
      "source": [
        "emotions = {\n",
        "    '01': 'neutral',\n",
        "    '02': 'calm',\n",
        "    '03': 'happy',\n",
        "    '04': 'sad',\n",
        "    '05': 'angry',\n",
        "    '06': 'fearful',\n",
        "    '07': 'disgust',\n",
        "    '08': 'surprised'\n",
        "}"
      ],
      "execution_count": 0,
      "outputs": []
    },
    {
      "cell_type": "code",
      "metadata": {
        "id": "_sFm9AkPoW9u",
        "colab_type": "code",
        "outputId": "bf003410-fd39-43f2-a0a2-2fe07eb3e2a6",
        "colab": {
          "base_uri": "https://localhost:8080/",
          "height": 122
        }
      },
      "source": [
        "from google.colab import drive\n",
        "drive.mount('/content/drive')"
      ],
      "execution_count": 0,
      "outputs": [
        {
          "output_type": "stream",
          "text": [
            "Go to this URL in a browser: https://accounts.google.com/o/oauth2/auth?client_id=947318989803-6bn6qk8qdgf4n4g3pfee6491hc0brc4i.apps.googleusercontent.com&redirect_uri=urn%3aietf%3awg%3aoauth%3a2.0%3aoob&response_type=code&scope=email%20https%3a%2f%2fwww.googleapis.com%2fauth%2fdocs.test%20https%3a%2f%2fwww.googleapis.com%2fauth%2fdrive%20https%3a%2f%2fwww.googleapis.com%2fauth%2fdrive.photos.readonly%20https%3a%2f%2fwww.googleapis.com%2fauth%2fpeopleapi.readonly\n",
            "\n",
            "Enter your authorization code:\n",
            "··········\n",
            "Mounted at /content/drive\n"
          ],
          "name": "stdout"
        }
      ]
    },
    {
      "cell_type": "code",
      "metadata": {
        "id": "LWKNK5ywRiZ9",
        "colab_type": "code",
        "colab": {}
      },
      "source": [
        "path = './drive/My Drive/Audio_Speech_Actors_01-24'"
      ],
      "execution_count": 0,
      "outputs": []
    },
    {
      "cell_type": "code",
      "metadata": {
        "id": "6XOECKh_nuR9",
        "colab_type": "code",
        "outputId": "135ad2a7-2cdd-4845-8883-1c5e91396bed",
        "colab": {
          "base_uri": "https://localhost:8080/",
          "height": 34
        }
      },
      "source": [
        "start = time.time()\n",
        "\n",
        "data = []\n",
        "\n",
        "for subdir, dirs, files in os.walk(path):\n",
        "    \n",
        "    for file in files:\n",
        "        target = emotions[str(file.split('-')[2])]\n",
        "        y, sr = lr.load(os.path.join(subdir, file), res_type='kaiser_fast')\n",
        "        mfccs = np.mean(lr.feature.mfcc(y=y, sr=sr, n_mfcc=30).T, axis=0)\n",
        "        sample = mfccs, target\n",
        "        data.append(sample)\n",
        "        \n",
        "        \n",
        "end = time.time()\n",
        "print(f'Writing ended in {end - start} seconds')"
      ],
      "execution_count": 0,
      "outputs": [
        {
          "output_type": "stream",
          "text": [
            "Writing ended in 0.0008492469787597656 seconds\n"
          ],
          "name": "stdout"
        }
      ]
    },
    {
      "cell_type": "code",
      "metadata": {
        "id": "wb1k9qhaneoh",
        "colab_type": "code",
        "outputId": "c81fe2bd-09a3-4630-8568-4b246e9c1602",
        "colab": {
          "base_uri": "https://localhost:8080/",
          "height": 153
        }
      },
      "source": [
        "encoder = LabelEncoder()\n",
        "print(data[1])\n",
        "X, y = zip(*data)"
      ],
      "execution_count": 0,
      "outputs": [
        {
          "output_type": "stream",
          "text": [
            "(array([-5.97530326e+02,  7.18440735e+01, -3.58919391e+00,  1.50107489e+01,\n",
            "        7.56234528e+00,  8.58460281e+00,  5.07991282e+00, -1.16580345e+00,\n",
            "       -8.53050146e+00,  7.39222899e+00, -2.90458670e-02,  2.91163162e+00,\n",
            "        4.91914413e+00,  2.69696785e+00, -5.57056097e-01,  3.23660437e+00,\n",
            "        4.62748964e-01,  2.78201417e+00, -1.28172269e+00,  1.45568001e+00,\n",
            "       -2.11333361e+00,  2.33295707e+00, -1.08369242e+00,  1.76749652e+00,\n",
            "        1.73917383e+00,  2.74457498e+00, -6.62494246e-01,  2.45952319e+00,\n",
            "       -2.47434652e+00, -1.52375567e+00]), 'sad')\n"
          ],
          "name": "stdout"
        }
      ]
    },
    {
      "cell_type": "code",
      "metadata": {
        "id": "Btxj4U8EmaEq",
        "colab_type": "code",
        "outputId": "29b83733-ff48-4c7f-e49c-05fc46d65884",
        "colab": {
          "base_uri": "https://localhost:8080/",
          "height": 157
        }
      },
      "source": [
        "print(X[1], y[1])"
      ],
      "execution_count": 0,
      "outputs": [
        {
          "output_type": "stream",
          "text": [
            "[-5.97530326e+02  7.18440735e+01 -3.58919391e+00  1.50107489e+01\n",
            "  7.56234528e+00  8.58460281e+00  5.07991282e+00 -1.16580345e+00\n",
            " -8.53050146e+00  7.39222899e+00 -2.90458670e-02  2.91163162e+00\n",
            "  4.91914413e+00  2.69696785e+00 -5.57056097e-01  3.23660437e+00\n",
            "  4.62748964e-01  2.78201417e+00 -1.28172269e+00  1.45568001e+00\n",
            " -2.11333361e+00  2.33295707e+00 -1.08369242e+00  1.76749652e+00\n",
            "  1.73917383e+00  2.74457498e+00 -6.62494246e-01  2.45952319e+00\n",
            " -2.47434652e+00 -1.52375567e+00] sad\n"
          ],
          "name": "stdout"
        }
      ]
    },
    {
      "cell_type": "code",
      "metadata": {
        "id": "rbwkyGBpwOVn",
        "colab_type": "code",
        "outputId": "f3d8097c-659c-4608-d486-d2e428beb7fb",
        "colab": {
          "base_uri": "https://localhost:8080/",
          "height": 401
        }
      },
      "source": [
        "dataset = pd.DataFrame(X, encoder.fit_transform(y))\n",
        "plt.plot(X[0])\n",
        "print(X[0])"
      ],
      "execution_count": 0,
      "outputs": [
        {
          "output_type": "stream",
          "text": [
            "[-4.48938915e+02  4.74078822e+01 -1.58629838e+01  1.44421117e+01\n",
            "  3.60102199e+00  6.10961219e-01  8.82434811e-02  1.28665662e+00\n",
            " -1.02381418e+01  4.98180358e+00 -6.47423645e+00 -1.63104740e+00\n",
            "  2.31920793e+00 -1.77739088e+00 -3.03083133e+00  3.90770902e-01\n",
            " -4.78294813e+00 -2.63560720e-01 -2.64330473e+00 -6.05301034e-01\n",
            " -2.80764311e+00  1.44039318e+00 -2.40493317e+00  2.28501291e-01\n",
            "  7.50917805e-01  2.56860798e+00  1.45798799e+00  2.69692218e+00\n",
            "  1.41575035e+00  8.28480753e-01]\n"
          ],
          "name": "stdout"
        },
        {
          "output_type": "display_data",
          "data": {
            "image/png": "[encoded data removed]",
            "text/plain": [
              "<Figure size 432x288 with 1 Axes>"
            ]
          },
          "metadata": {
            "tags": []
          }
        }
      ]
    },
    {
      "cell_type": "code",
      "metadata": {
        "id": "yiQCxCZHy7kq",
        "colab_type": "code",
        "colab": {}
      },
      "source": [
        "dataset = dataset.reset_index()\n",
        "dataset.rename(columns={\n",
        "    'index': 'target'\n",
        "}, inplace=True)"
      ],
      "execution_count": 0,
      "outputs": []
    },
    {
      "cell_type": "code",
      "metadata": {
        "id": "1YThXAg0zb74",
        "colab_type": "code",
        "outputId": "6efda35e-3ff2-4941-b5a6-260779170f35",
        "colab": {
          "base_uri": "https://localhost:8080/",
          "height": 224
        }
      },
      "source": [
        "dataset.head()"
      ],
      "execution_count": 0,
      "outputs": [
        {
          "output_type": "execute_result",
          "data": {
            "text/html": [
              "<div>\n",
              "<style scoped>\n",
              "    .dataframe tbody tr th:only-of-type {\n",
              "        vertical-align: middle;\n",
              "    }\n",
              "\n",
              "    .dataframe tbody tr th {\n",
              "        vertical-align: top;\n",
              "    }\n",
              "\n",
              "    .dataframe thead th {\n",
              "        text-align: right;\n",
              "    }\n",
              "</style>\n",
              "<table border=\"1\" class=\"dataframe\">\n",
              "  <thead>\n",
              "    <tr style=\"text-align: right;\">\n",
              "      <th></th>\n",
              "      <th>target</th>\n",
              "      <th>0</th>\n",
              "      <th>1</th>\n",
              "      <th>2</th>\n",
              "      <th>3</th>\n",
              "      <th>4</th>\n",
              "      <th>5</th>\n",
              "      <th>6</th>\n",
              "      <th>7</th>\n",
              "      <th>8</th>\n",
              "      <th>9</th>\n",
              "      <th>10</th>\n",
              "      <th>11</th>\n",
              "      <th>12</th>\n",
              "      <th>13</th>\n",
              "      <th>14</th>\n",
              "      <th>15</th>\n",
              "      <th>16</th>\n",
              "      <th>17</th>\n",
              "      <th>18</th>\n",
              "      <th>19</th>\n",
              "      <th>20</th>\n",
              "      <th>21</th>\n",
              "      <th>22</th>\n",
              "      <th>23</th>\n",
              "      <th>24</th>\n",
              "      <th>25</th>\n",
              "      <th>26</th>\n",
              "      <th>27</th>\n",
              "      <th>28</th>\n",
              "      <th>29</th>\n",
              "    </tr>\n",
              "  </thead>\n",
              "  <tbody>\n",
              "    <tr>\n",
              "      <th>0</th>\n",
              "      <td>0</td>\n",
              "      <td>-448.938915</td>\n",
              "      <td>47.407882</td>\n",
              "      <td>-15.862984</td>\n",
              "      <td>14.442112</td>\n",
              "      <td>3.601022</td>\n",
              "      <td>0.610961</td>\n",
              "      <td>0.088243</td>\n",
              "      <td>1.286657</td>\n",
              "      <td>-10.238142</td>\n",
              "      <td>4.981804</td>\n",
              "      <td>-6.474236</td>\n",
              "      <td>-1.631047</td>\n",
              "      <td>2.319208</td>\n",
              "      <td>-1.777391</td>\n",
              "      <td>-3.030831</td>\n",
              "      <td>0.390771</td>\n",
              "      <td>-4.782948</td>\n",
              "      <td>-0.263561</td>\n",
              "      <td>-2.643305</td>\n",
              "      <td>-0.605301</td>\n",
              "      <td>-2.807643</td>\n",
              "      <td>1.440393</td>\n",
              "      <td>-2.404933</td>\n",
              "      <td>0.228501</td>\n",
              "      <td>0.750918</td>\n",
              "      <td>2.568608</td>\n",
              "      <td>1.457988</td>\n",
              "      <td>2.696922</td>\n",
              "      <td>1.415750</td>\n",
              "      <td>0.828481</td>\n",
              "    </tr>\n",
              "    <tr>\n",
              "      <th>1</th>\n",
              "      <td>6</td>\n",
              "      <td>-597.530326</td>\n",
              "      <td>71.844073</td>\n",
              "      <td>-3.589194</td>\n",
              "      <td>15.010749</td>\n",
              "      <td>7.562345</td>\n",
              "      <td>8.584603</td>\n",
              "      <td>5.079913</td>\n",
              "      <td>-1.165803</td>\n",
              "      <td>-8.530501</td>\n",
              "      <td>7.392229</td>\n",
              "      <td>-0.029046</td>\n",
              "      <td>2.911632</td>\n",
              "      <td>4.919144</td>\n",
              "      <td>2.696968</td>\n",
              "      <td>-0.557056</td>\n",
              "      <td>3.236604</td>\n",
              "      <td>0.462749</td>\n",
              "      <td>2.782014</td>\n",
              "      <td>-1.281723</td>\n",
              "      <td>1.455680</td>\n",
              "      <td>-2.113334</td>\n",
              "      <td>2.332957</td>\n",
              "      <td>-1.083692</td>\n",
              "      <td>1.767497</td>\n",
              "      <td>1.739174</td>\n",
              "      <td>2.744575</td>\n",
              "      <td>-0.662494</td>\n",
              "      <td>2.459523</td>\n",
              "      <td>-2.474347</td>\n",
              "      <td>-1.523756</td>\n",
              "    </tr>\n",
              "    <tr>\n",
              "      <th>2</th>\n",
              "      <td>2</td>\n",
              "      <td>-534.202026</td>\n",
              "      <td>39.412411</td>\n",
              "      <td>-1.820449</td>\n",
              "      <td>14.434404</td>\n",
              "      <td>-0.613531</td>\n",
              "      <td>13.865132</td>\n",
              "      <td>-8.556783</td>\n",
              "      <td>-0.939974</td>\n",
              "      <td>-11.537850</td>\n",
              "      <td>11.879477</td>\n",
              "      <td>-5.094107</td>\n",
              "      <td>2.011087</td>\n",
              "      <td>1.176359</td>\n",
              "      <td>2.994465</td>\n",
              "      <td>-2.763899</td>\n",
              "      <td>2.595437</td>\n",
              "      <td>-1.363331</td>\n",
              "      <td>-0.072466</td>\n",
              "      <td>-0.021944</td>\n",
              "      <td>1.254722</td>\n",
              "      <td>-4.357311</td>\n",
              "      <td>5.177551</td>\n",
              "      <td>-0.632091</td>\n",
              "      <td>1.321194</td>\n",
              "      <td>2.431792</td>\n",
              "      <td>2.556440</td>\n",
              "      <td>1.492255</td>\n",
              "      <td>2.745695</td>\n",
              "      <td>-0.581495</td>\n",
              "      <td>0.774913</td>\n",
              "    </tr>\n",
              "    <tr>\n",
              "      <th>3</th>\n",
              "      <td>6</td>\n",
              "      <td>-542.390408</td>\n",
              "      <td>58.538177</td>\n",
              "      <td>-18.411185</td>\n",
              "      <td>15.147844</td>\n",
              "      <td>3.208095</td>\n",
              "      <td>6.944355</td>\n",
              "      <td>-5.323862</td>\n",
              "      <td>-9.375724</td>\n",
              "      <td>-14.549902</td>\n",
              "      <td>9.964431</td>\n",
              "      <td>-2.151777</td>\n",
              "      <td>-2.767456</td>\n",
              "      <td>4.574551</td>\n",
              "      <td>1.586147</td>\n",
              "      <td>-2.603215</td>\n",
              "      <td>6.991284</td>\n",
              "      <td>-1.731485</td>\n",
              "      <td>-2.041674</td>\n",
              "      <td>-1.439486</td>\n",
              "      <td>0.295801</td>\n",
              "      <td>-2.715681</td>\n",
              "      <td>3.071960</td>\n",
              "      <td>-3.425849</td>\n",
              "      <td>2.862861</td>\n",
              "      <td>1.401472</td>\n",
              "      <td>0.385539</td>\n",
              "      <td>1.027753</td>\n",
              "      <td>2.434207</td>\n",
              "      <td>-2.288308</td>\n",
              "      <td>-0.975802</td>\n",
              "    </tr>\n",
              "    <tr>\n",
              "      <th>4</th>\n",
              "      <td>0</td>\n",
              "      <td>-572.175962</td>\n",
              "      <td>61.284077</td>\n",
              "      <td>-7.719666</td>\n",
              "      <td>20.977139</td>\n",
              "      <td>5.743182</td>\n",
              "      <td>4.252063</td>\n",
              "      <td>5.094633</td>\n",
              "      <td>-1.238540</td>\n",
              "      <td>-9.652594</td>\n",
              "      <td>8.433262</td>\n",
              "      <td>-5.859065</td>\n",
              "      <td>2.747907</td>\n",
              "      <td>4.690403</td>\n",
              "      <td>-0.106562</td>\n",
              "      <td>-1.414646</td>\n",
              "      <td>2.974597</td>\n",
              "      <td>-0.343050</td>\n",
              "      <td>1.918122</td>\n",
              "      <td>-0.529181</td>\n",
              "      <td>0.044167</td>\n",
              "      <td>-4.521850</td>\n",
              "      <td>2.354417</td>\n",
              "      <td>-2.518961</td>\n",
              "      <td>1.929664</td>\n",
              "      <td>-1.925008</td>\n",
              "      <td>0.988519</td>\n",
              "      <td>-0.569554</td>\n",
              "      <td>2.791949</td>\n",
              "      <td>-1.076641</td>\n",
              "      <td>-0.305051</td>\n",
              "    </tr>\n",
              "  </tbody>\n",
              "</table>\n",
              "</div>"
            ],
            "text/plain": [
              "   target           0          1  ...        27        28        29\n",
              "0       0 -448.938915  47.407882  ...  2.696922  1.415750  0.828481\n",
              "1       6 -597.530326  71.844073  ...  2.459523 -2.474347 -1.523756\n",
              "2       2 -534.202026  39.412411  ...  2.745695 -0.581495  0.774913\n",
              "3       6 -542.390408  58.538177  ...  2.434207 -2.288308 -0.975802\n",
              "4       0 -572.175962  61.284077  ...  2.791949 -1.076641 -0.305051\n",
              "\n",
              "[5 rows x 31 columns]"
            ]
          },
          "metadata": {
            "tags": []
          },
          "execution_count": 11
        }
      ]
    },
    {
      "cell_type": "code",
      "metadata": {
        "id": "da4dWn3Qy3pD",
        "colab_type": "code",
        "colab": {}
      },
      "source": [
        "dataset\n",
        "dataset.to_csv('mfccs30.csv')"
      ],
      "execution_count": 0,
      "outputs": []
    },
    {
      "cell_type": "code",
      "metadata": {
        "id": "PgKSwWKSzhQh",
        "colab_type": "code",
        "colab": {}
      },
      "source": [
        "X = dataset.iloc[:, 1:].values\n",
        "y = dataset.iloc[:, 0].values"
      ],
      "execution_count": 0,
      "outputs": []
    },
    {
      "cell_type": "code",
      "metadata": {
        "id": "whHHxNxJnY9Y",
        "colab_type": "code",
        "outputId": "b5815bec-5c40-4c20-ddb6-e9c7ddb70e35",
        "colab": {
          "base_uri": "https://localhost:8080/",
          "height": 157
        }
      },
      "source": [
        "print(X[1], y[1])"
      ],
      "execution_count": 0,
      "outputs": [
        {
          "output_type": "stream",
          "text": [
            "[-5.97530326e+02  7.18440735e+01 -3.58919391e+00  1.50107489e+01\n",
            "  7.56234528e+00  8.58460281e+00  5.07991282e+00 -1.16580345e+00\n",
            " -8.53050146e+00  7.39222899e+00 -2.90458670e-02  2.91163162e+00\n",
            "  4.91914413e+00  2.69696785e+00 -5.57056097e-01  3.23660437e+00\n",
            "  4.62748964e-01  2.78201417e+00 -1.28172269e+00  1.45568001e+00\n",
            " -2.11333361e+00  2.33295707e+00 -1.08369242e+00  1.76749652e+00\n",
            "  1.73917383e+00  2.74457498e+00 -6.62494246e-01  2.45952319e+00\n",
            " -2.47434652e+00 -1.52375567e+00] 6\n"
          ],
          "name": "stdout"
        }
      ]
    },
    {
      "cell_type": "code",
      "metadata": {
        "id": "8opDNAIez0Wu",
        "colab_type": "code",
        "colab": {}
      },
      "source": [
        "X_train, X_test, y_train, y_test = train_test_split(X, y, test_size=0.3, random_state=42)"
      ],
      "execution_count": 0,
      "outputs": []
    },
    {
      "cell_type": "markdown",
      "metadata": {
        "id": "V3SSGifprrbo",
        "colab_type": "text"
      },
      "source": [
        "Dataset ready. ML Part."
      ]
    },
    {
      "cell_type": "markdown",
      "metadata": {
        "id": "cYVce3sadI87",
        "colab_type": "text"
      },
      "source": [
        "Classification Network"
      ]
    }
  ]
}