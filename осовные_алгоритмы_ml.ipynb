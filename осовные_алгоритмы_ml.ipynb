{
  "nbformat": 4,
  "nbformat_minor": 0,
  "metadata": {
    "colab": {
      "name": "осовные алгоритмы ml",
      "provenance": [],
      "machine_shape": "hm"
    },
    "kernelspec": {
      "name": "python3",
      "display_name": "Python 3"
    }
  },
  "cells": [
    {
      "cell_type": "code",
      "metadata": {
        "id": "ZvxHaO7S1NJ6",
        "colab_type": "code",
        "colab": {}
      },
      "source": [
        "import pandas as pd\n",
        "import numpy as np\n",
        "import torch.nn as nn\n",
        "import torch\n",
        "import librosa as lr\n",
        "from librosa import display\n",
        "import os\n",
        "import time\n",
        "import IPython.display as ipd\n",
        "from matplotlib.pyplot import specgram\n",
        "from sklearn.model_selection import train_test_split\n",
        "import matplotlib.pyplot as plt\n",
        "from sklearn.tree import DecisionTreeClassifier\n",
        "from sklearn.ensemble import RandomForestClassifier, GradientBoostingClassifier\n",
        "from sklearn.linear_model import LogisticRegression\n",
        "from sklearn.model_selection import GridSearchCV\n",
        "from sklearn.metrics import classification_report\n",
        "from sklearn.svm import SVC\n",
        "from sklearn.preprocessing import LabelEncoder\n",
        "import torch.optim as optim\n"
      ],
      "execution_count": 0,
      "outputs": []
    },
    {
      "cell_type": "code",
      "metadata": {
        "id": "URjHux7Z1slR",
        "colab_type": "code",
        "outputId": "be3b186c-818b-4e22-9482-686cdcf86a84",
        "colab": {
          "base_uri": "https://localhost:8080/",
          "height": 456
        }
      },
      "source": [
        "dataset = pd.read_csv('https://raw.githubusercontent.com/grigorev-max/emotions/master/mfccs30.csv')\n",
        "dataset"
      ],
      "execution_count": 0,
      "outputs": [
        {
          "output_type": "execute_result",
          "data": {
            "text/html": [
              "<div>\n",
              "<style scoped>\n",
              "    .dataframe tbody tr th:only-of-type {\n",
              "        vertical-align: middle;\n",
              "    }\n",
              "\n",
              "    .dataframe tbody tr th {\n",
              "        vertical-align: top;\n",
              "    }\n",
              "\n",
              "    .dataframe thead th {\n",
              "        text-align: right;\n",
              "    }\n",
              "</style>\n",
              "<table border=\"1\" class=\"dataframe\">\n",
              "  <thead>\n",
              "    <tr style=\"text-align: right;\">\n",
              "      <th></th>\n",
              "      <th>Unnamed: 0</th>\n",
              "      <th>target</th>\n",
              "      <th>0</th>\n",
              "      <th>1</th>\n",
              "      <th>2</th>\n",
              "      <th>3</th>\n",
              "      <th>4</th>\n",
              "      <th>5</th>\n",
              "      <th>6</th>\n",
              "      <th>7</th>\n",
              "      <th>8</th>\n",
              "      <th>9</th>\n",
              "      <th>10</th>\n",
              "      <th>11</th>\n",
              "      <th>12</th>\n",
              "      <th>13</th>\n",
              "      <th>14</th>\n",
              "      <th>15</th>\n",
              "      <th>16</th>\n",
              "      <th>17</th>\n",
              "      <th>18</th>\n",
              "      <th>19</th>\n",
              "      <th>20</th>\n",
              "      <th>21</th>\n",
              "      <th>22</th>\n",
              "      <th>23</th>\n",
              "      <th>24</th>\n",
              "      <th>25</th>\n",
              "      <th>26</th>\n",
              "      <th>27</th>\n",
              "      <th>28</th>\n",
              "      <th>29</th>\n",
              "    </tr>\n",
              "  </thead>\n",
              "  <tbody>\n",
              "    <tr>\n",
              "      <th>0</th>\n",
              "      <td>0</td>\n",
              "      <td>0</td>\n",
              "      <td>-448.938915</td>\n",
              "      <td>47.407882</td>\n",
              "      <td>-15.862984</td>\n",
              "      <td>14.442112</td>\n",
              "      <td>3.601022</td>\n",
              "      <td>0.610961</td>\n",
              "      <td>0.088243</td>\n",
              "      <td>1.286657</td>\n",
              "      <td>-10.238142</td>\n",
              "      <td>4.981804</td>\n",
              "      <td>-6.474236</td>\n",
              "      <td>-1.631047</td>\n",
              "      <td>2.319208</td>\n",
              "      <td>-1.777391</td>\n",
              "      <td>-3.030831</td>\n",
              "      <td>0.390771</td>\n",
              "      <td>-4.782948</td>\n",
              "      <td>-0.263561</td>\n",
              "      <td>-2.643305</td>\n",
              "      <td>-0.605301</td>\n",
              "      <td>-2.807643</td>\n",
              "      <td>1.440393</td>\n",
              "      <td>-2.404933</td>\n",
              "      <td>0.228501</td>\n",
              "      <td>0.750918</td>\n",
              "      <td>2.568608</td>\n",
              "      <td>1.457988</td>\n",
              "      <td>2.696922</td>\n",
              "      <td>1.415750</td>\n",
              "      <td>0.828481</td>\n",
              "    </tr>\n",
              "    <tr>\n",
              "      <th>1</th>\n",
              "      <td>1</td>\n",
              "      <td>6</td>\n",
              "      <td>-597.530326</td>\n",
              "      <td>71.844073</td>\n",
              "      <td>-3.589194</td>\n",
              "      <td>15.010749</td>\n",
              "      <td>7.562345</td>\n",
              "      <td>8.584603</td>\n",
              "      <td>5.079913</td>\n",
              "      <td>-1.165803</td>\n",
              "      <td>-8.530501</td>\n",
              "      <td>7.392229</td>\n",
              "      <td>-0.029046</td>\n",
              "      <td>2.911632</td>\n",
              "      <td>4.919144</td>\n",
              "      <td>2.696968</td>\n",
              "      <td>-0.557056</td>\n",
              "      <td>3.236604</td>\n",
              "      <td>0.462749</td>\n",
              "      <td>2.782014</td>\n",
              "      <td>-1.281723</td>\n",
              "      <td>1.455680</td>\n",
              "      <td>-2.113334</td>\n",
              "      <td>2.332957</td>\n",
              "      <td>-1.083692</td>\n",
              "      <td>1.767497</td>\n",
              "      <td>1.739174</td>\n",
              "      <td>2.744575</td>\n",
              "      <td>-0.662494</td>\n",
              "      <td>2.459523</td>\n",
              "      <td>-2.474347</td>\n",
              "      <td>-1.523756</td>\n",
              "    </tr>\n",
              "    <tr>\n",
              "      <th>2</th>\n",
              "      <td>2</td>\n",
              "      <td>2</td>\n",
              "      <td>-534.202026</td>\n",
              "      <td>39.412411</td>\n",
              "      <td>-1.820449</td>\n",
              "      <td>14.434404</td>\n",
              "      <td>-0.613531</td>\n",
              "      <td>13.865132</td>\n",
              "      <td>-8.556783</td>\n",
              "      <td>-0.939974</td>\n",
              "      <td>-11.537850</td>\n",
              "      <td>11.879477</td>\n",
              "      <td>-5.094107</td>\n",
              "      <td>2.011087</td>\n",
              "      <td>1.176359</td>\n",
              "      <td>2.994465</td>\n",
              "      <td>-2.763899</td>\n",
              "      <td>2.595437</td>\n",
              "      <td>-1.363331</td>\n",
              "      <td>-0.072466</td>\n",
              "      <td>-0.021944</td>\n",
              "      <td>1.254722</td>\n",
              "      <td>-4.357311</td>\n",
              "      <td>5.177551</td>\n",
              "      <td>-0.632091</td>\n",
              "      <td>1.321194</td>\n",
              "      <td>2.431792</td>\n",
              "      <td>2.556440</td>\n",
              "      <td>1.492255</td>\n",
              "      <td>2.745695</td>\n",
              "      <td>-0.581495</td>\n",
              "      <td>0.774913</td>\n",
              "    </tr>\n",
              "    <tr>\n",
              "      <th>3</th>\n",
              "      <td>3</td>\n",
              "      <td>6</td>\n",
              "      <td>-542.390408</td>\n",
              "      <td>58.538177</td>\n",
              "      <td>-18.411185</td>\n",
              "      <td>15.147844</td>\n",
              "      <td>3.208095</td>\n",
              "      <td>6.944355</td>\n",
              "      <td>-5.323862</td>\n",
              "      <td>-9.375724</td>\n",
              "      <td>-14.549902</td>\n",
              "      <td>9.964431</td>\n",
              "      <td>-2.151777</td>\n",
              "      <td>-2.767456</td>\n",
              "      <td>4.574551</td>\n",
              "      <td>1.586147</td>\n",
              "      <td>-2.603215</td>\n",
              "      <td>6.991284</td>\n",
              "      <td>-1.731485</td>\n",
              "      <td>-2.041674</td>\n",
              "      <td>-1.439486</td>\n",
              "      <td>0.295801</td>\n",
              "      <td>-2.715681</td>\n",
              "      <td>3.071960</td>\n",
              "      <td>-3.425849</td>\n",
              "      <td>2.862861</td>\n",
              "      <td>1.401472</td>\n",
              "      <td>0.385539</td>\n",
              "      <td>1.027753</td>\n",
              "      <td>2.434207</td>\n",
              "      <td>-2.288308</td>\n",
              "      <td>-0.975802</td>\n",
              "    </tr>\n",
              "    <tr>\n",
              "      <th>4</th>\n",
              "      <td>4</td>\n",
              "      <td>0</td>\n",
              "      <td>-572.175962</td>\n",
              "      <td>61.284077</td>\n",
              "      <td>-7.719666</td>\n",
              "      <td>20.977139</td>\n",
              "      <td>5.743182</td>\n",
              "      <td>4.252063</td>\n",
              "      <td>5.094633</td>\n",
              "      <td>-1.238540</td>\n",
              "      <td>-9.652594</td>\n",
              "      <td>8.433262</td>\n",
              "      <td>-5.859065</td>\n",
              "      <td>2.747907</td>\n",
              "      <td>4.690403</td>\n",
              "      <td>-0.106562</td>\n",
              "      <td>-1.414646</td>\n",
              "      <td>2.974597</td>\n",
              "      <td>-0.343050</td>\n",
              "      <td>1.918122</td>\n",
              "      <td>-0.529181</td>\n",
              "      <td>0.044167</td>\n",
              "      <td>-4.521850</td>\n",
              "      <td>2.354417</td>\n",
              "      <td>-2.518961</td>\n",
              "      <td>1.929664</td>\n",
              "      <td>-1.925008</td>\n",
              "      <td>0.988519</td>\n",
              "      <td>-0.569554</td>\n",
              "      <td>2.791949</td>\n",
              "      <td>-1.076641</td>\n",
              "      <td>-0.305051</td>\n",
              "    </tr>\n",
              "    <tr>\n",
              "      <th>...</th>\n",
              "      <td>...</td>\n",
              "      <td>...</td>\n",
              "      <td>...</td>\n",
              "      <td>...</td>\n",
              "      <td>...</td>\n",
              "      <td>...</td>\n",
              "      <td>...</td>\n",
              "      <td>...</td>\n",
              "      <td>...</td>\n",
              "      <td>...</td>\n",
              "      <td>...</td>\n",
              "      <td>...</td>\n",
              "      <td>...</td>\n",
              "      <td>...</td>\n",
              "      <td>...</td>\n",
              "      <td>...</td>\n",
              "      <td>...</td>\n",
              "      <td>...</td>\n",
              "      <td>...</td>\n",
              "      <td>...</td>\n",
              "      <td>...</td>\n",
              "      <td>...</td>\n",
              "      <td>...</td>\n",
              "      <td>...</td>\n",
              "      <td>...</td>\n",
              "      <td>...</td>\n",
              "      <td>...</td>\n",
              "      <td>...</td>\n",
              "      <td>...</td>\n",
              "      <td>...</td>\n",
              "      <td>...</td>\n",
              "      <td>...</td>\n",
              "    </tr>\n",
              "    <tr>\n",
              "      <th>1434</th>\n",
              "      <td>1434</td>\n",
              "      <td>3</td>\n",
              "      <td>-606.303493</td>\n",
              "      <td>59.480265</td>\n",
              "      <td>-10.236553</td>\n",
              "      <td>13.245480</td>\n",
              "      <td>0.449186</td>\n",
              "      <td>-0.226531</td>\n",
              "      <td>-11.712656</td>\n",
              "      <td>-8.929202</td>\n",
              "      <td>-19.489910</td>\n",
              "      <td>-1.190192</td>\n",
              "      <td>-6.012188</td>\n",
              "      <td>-3.835766</td>\n",
              "      <td>-2.274578</td>\n",
              "      <td>-4.579065</td>\n",
              "      <td>-3.322597</td>\n",
              "      <td>3.882009</td>\n",
              "      <td>-8.370868</td>\n",
              "      <td>-3.471111</td>\n",
              "      <td>-2.947829</td>\n",
              "      <td>-2.835473</td>\n",
              "      <td>-6.135247</td>\n",
              "      <td>-1.529253</td>\n",
              "      <td>-4.359732</td>\n",
              "      <td>-5.122018</td>\n",
              "      <td>-3.018169</td>\n",
              "      <td>-2.291794</td>\n",
              "      <td>-5.083037</td>\n",
              "      <td>-1.263429</td>\n",
              "      <td>-3.001610</td>\n",
              "      <td>-3.238654</td>\n",
              "    </tr>\n",
              "    <tr>\n",
              "      <th>1435</th>\n",
              "      <td>1435</td>\n",
              "      <td>0</td>\n",
              "      <td>-549.178028</td>\n",
              "      <td>46.897011</td>\n",
              "      <td>-10.341228</td>\n",
              "      <td>16.867871</td>\n",
              "      <td>-5.494266</td>\n",
              "      <td>1.123965</td>\n",
              "      <td>-8.030501</td>\n",
              "      <td>2.034195</td>\n",
              "      <td>-15.703639</td>\n",
              "      <td>-1.792811</td>\n",
              "      <td>-3.569278</td>\n",
              "      <td>-2.332942</td>\n",
              "      <td>-2.865455</td>\n",
              "      <td>-2.730171</td>\n",
              "      <td>-4.893011</td>\n",
              "      <td>-0.445231</td>\n",
              "      <td>-7.299211</td>\n",
              "      <td>-0.990226</td>\n",
              "      <td>-4.618441</td>\n",
              "      <td>-2.870165</td>\n",
              "      <td>-5.618473</td>\n",
              "      <td>-2.408873</td>\n",
              "      <td>-4.344280</td>\n",
              "      <td>-4.101398</td>\n",
              "      <td>-3.156559</td>\n",
              "      <td>-1.523610</td>\n",
              "      <td>-4.572047</td>\n",
              "      <td>0.874767</td>\n",
              "      <td>-1.836550</td>\n",
              "      <td>-1.285127</td>\n",
              "    </tr>\n",
              "    <tr>\n",
              "      <th>1436</th>\n",
              "      <td>1436</td>\n",
              "      <td>1</td>\n",
              "      <td>-708.586594</td>\n",
              "      <td>74.851309</td>\n",
              "      <td>-1.195068</td>\n",
              "      <td>17.735133</td>\n",
              "      <td>0.068687</td>\n",
              "      <td>11.248456</td>\n",
              "      <td>-9.936109</td>\n",
              "      <td>-0.051175</td>\n",
              "      <td>-12.772684</td>\n",
              "      <td>-0.770779</td>\n",
              "      <td>-1.440705</td>\n",
              "      <td>4.604878</td>\n",
              "      <td>-2.415430</td>\n",
              "      <td>-1.388817</td>\n",
              "      <td>-0.532589</td>\n",
              "      <td>1.083026</td>\n",
              "      <td>-5.945723</td>\n",
              "      <td>-0.679915</td>\n",
              "      <td>-2.673116</td>\n",
              "      <td>0.356612</td>\n",
              "      <td>-7.876841</td>\n",
              "      <td>0.017324</td>\n",
              "      <td>-1.446074</td>\n",
              "      <td>-4.593274</td>\n",
              "      <td>-2.272512</td>\n",
              "      <td>0.133683</td>\n",
              "      <td>-4.746724</td>\n",
              "      <td>0.979721</td>\n",
              "      <td>-3.878039</td>\n",
              "      <td>-0.590434</td>\n",
              "    </tr>\n",
              "    <tr>\n",
              "      <th>1437</th>\n",
              "      <td>1437</td>\n",
              "      <td>4</td>\n",
              "      <td>-655.902397</td>\n",
              "      <td>61.638367</td>\n",
              "      <td>-4.100128</td>\n",
              "      <td>22.738586</td>\n",
              "      <td>-1.642008</td>\n",
              "      <td>4.545904</td>\n",
              "      <td>-6.415718</td>\n",
              "      <td>-2.607291</td>\n",
              "      <td>-16.828796</td>\n",
              "      <td>-0.479304</td>\n",
              "      <td>-2.216593</td>\n",
              "      <td>-2.034633</td>\n",
              "      <td>0.328695</td>\n",
              "      <td>-2.252528</td>\n",
              "      <td>-2.451578</td>\n",
              "      <td>2.591220</td>\n",
              "      <td>-8.426135</td>\n",
              "      <td>-1.381428</td>\n",
              "      <td>-1.917242</td>\n",
              "      <td>-2.097487</td>\n",
              "      <td>-5.839813</td>\n",
              "      <td>-1.318385</td>\n",
              "      <td>-2.597143</td>\n",
              "      <td>-4.401530</td>\n",
              "      <td>-2.624416</td>\n",
              "      <td>-0.100655</td>\n",
              "      <td>-5.981996</td>\n",
              "      <td>0.003618</td>\n",
              "      <td>-3.463606</td>\n",
              "      <td>-1.089256</td>\n",
              "    </tr>\n",
              "    <tr>\n",
              "      <th>1438</th>\n",
              "      <td>1438</td>\n",
              "      <td>4</td>\n",
              "      <td>-562.437222</td>\n",
              "      <td>58.487421</td>\n",
              "      <td>-15.078141</td>\n",
              "      <td>8.968289</td>\n",
              "      <td>-0.937186</td>\n",
              "      <td>1.341997</td>\n",
              "      <td>-14.141679</td>\n",
              "      <td>-4.763001</td>\n",
              "      <td>-17.126834</td>\n",
              "      <td>-5.044669</td>\n",
              "      <td>1.112849</td>\n",
              "      <td>-5.978415</td>\n",
              "      <td>-3.314919</td>\n",
              "      <td>-0.532992</td>\n",
              "      <td>-7.154703</td>\n",
              "      <td>1.748731</td>\n",
              "      <td>-8.099905</td>\n",
              "      <td>-5.319140</td>\n",
              "      <td>-2.887906</td>\n",
              "      <td>-4.411467</td>\n",
              "      <td>-6.239720</td>\n",
              "      <td>-4.184411</td>\n",
              "      <td>-3.285651</td>\n",
              "      <td>-4.785773</td>\n",
              "      <td>-1.801218</td>\n",
              "      <td>0.598849</td>\n",
              "      <td>-3.696558</td>\n",
              "      <td>0.303755</td>\n",
              "      <td>-0.264365</td>\n",
              "      <td>-2.974242</td>\n",
              "    </tr>\n",
              "  </tbody>\n",
              "</table>\n",
              "<p>1439 rows × 32 columns</p>\n",
              "</div>"
            ],
            "text/plain": [
              "      Unnamed: 0  target           0  ...        27        28        29\n",
              "0              0       0 -448.938915  ...  2.696922  1.415750  0.828481\n",
              "1              1       6 -597.530326  ...  2.459523 -2.474347 -1.523756\n",
              "2              2       2 -534.202026  ...  2.745695 -0.581495  0.774913\n",
              "3              3       6 -542.390408  ...  2.434207 -2.288308 -0.975802\n",
              "4              4       0 -572.175962  ...  2.791949 -1.076641 -0.305051\n",
              "...          ...     ...         ...  ...       ...       ...       ...\n",
              "1434        1434       3 -606.303493  ... -1.263429 -3.001610 -3.238654\n",
              "1435        1435       0 -549.178028  ...  0.874767 -1.836550 -1.285127\n",
              "1436        1436       1 -708.586594  ...  0.979721 -3.878039 -0.590434\n",
              "1437        1437       4 -655.902397  ...  0.003618 -3.463606 -1.089256\n",
              "1438        1438       4 -562.437222  ...  0.303755 -0.264365 -2.974242\n",
              "\n",
              "[1439 rows x 32 columns]"
            ]
          },
          "metadata": {
            "tags": []
          },
          "execution_count": 4
        }
      ]
    },
    {
      "cell_type": "code",
      "metadata": {
        "id": "B6xF-hEZR3Oj",
        "colab_type": "code",
        "colab": {}
      },
      "source": [
        ""
      ],
      "execution_count": 0,
      "outputs": []
    },
    {
      "cell_type": "code",
      "metadata": {
        "id": "3fRTyk7i2Epy",
        "colab_type": "code",
        "outputId": "f642b380-4ab1-4863-bf57-c73c9119c4d5",
        "colab": {
          "base_uri": "https://localhost:8080/",
          "height": 153
        }
      },
      "source": [
        "X = dataset.iloc[:, 2:].values\n",
        "y = dataset.iloc[:, 1].values\n",
        "X_train, X_test, y_train, y_test = train_test_split(X, y, test_size=0.3, random_state=42)\n",
        "print((X[0], y[9]))"
      ],
      "execution_count": 0,
      "outputs": [
        {
          "output_type": "stream",
          "text": [
            "(array([-4.48938915e+02,  4.74078822e+01, -1.58629838e+01,  1.44421117e+01,\n",
            "        3.60102199e+00,  6.10961219e-01,  8.82434811e-02,  1.28665662e+00,\n",
            "       -1.02381418e+01,  4.98180358e+00, -6.47423645e+00, -1.63104740e+00,\n",
            "        2.31920793e+00, -1.77739088e+00, -3.03083133e+00,  3.90770902e-01,\n",
            "       -4.78294813e+00, -2.63560720e-01, -2.64330473e+00, -6.05301034e-01,\n",
            "       -2.80764311e+00,  1.44039318e+00, -2.40493317e+00,  2.28501291e-01,\n",
            "        7.50917805e-01,  2.56860798e+00,  1.45798799e+00,  2.69692218e+00,\n",
            "        1.41575035e+00,  8.28480753e-01]), 1)\n"
          ],
          "name": "stdout"
        }
      ]
    },
    {
      "cell_type": "code",
      "metadata": {
        "id": "J9rhl21Kx4Ip",
        "colab_type": "code",
        "outputId": "e6851ac8-aa5d-44dc-bd91-456798834ce9",
        "colab": {
          "base_uri": "https://localhost:8080/",
          "height": 238
        }
      },
      "source": [
        "X"
      ],
      "execution_count": 0,
      "outputs": [
        {
          "output_type": "execute_result",
          "data": {
            "text/plain": [
              "array([[-4.48938915e+02,  4.74078822e+01, -1.58629838e+01, ...,\n",
              "         2.69692218e+00,  1.41575035e+00,  8.28480753e-01],\n",
              "       [-5.97530326e+02,  7.18440735e+01, -3.58919391e+00, ...,\n",
              "         2.45952319e+00, -2.47434652e+00, -1.52375567e+00],\n",
              "       [-5.34202026e+02,  3.94124106e+01, -1.82044935e+00, ...,\n",
              "         2.74569492e+00, -5.81495365e-01,  7.74912820e-01],\n",
              "       ...,\n",
              "       [-7.08586594e+02,  7.48513093e+01, -1.19506790e+00, ...,\n",
              "         9.79721234e-01, -3.87803909e+00, -5.90434295e-01],\n",
              "       [-6.55902397e+02,  6.16383669e+01, -4.10012848e+00, ...,\n",
              "         3.61761439e-03, -3.46360591e+00, -1.08925625e+00],\n",
              "       [-5.62437222e+02,  5.84874208e+01, -1.50781410e+01, ...,\n",
              "         3.03754849e-01, -2.64364738e-01, -2.97424156e+00]])"
            ]
          },
          "metadata": {
            "tags": []
          },
          "execution_count": 6
        }
      ]
    },
    {
      "cell_type": "code",
      "metadata": {
        "id": "SCsHcDnzA43F",
        "colab_type": "code",
        "outputId": "5799d817-3350-4c9e-cf92-212774d4df84",
        "colab": {
          "base_uri": "https://localhost:8080/",
          "height": 282
        }
      },
      "source": [
        "plt.scatter(X_train[:, 0], X_train[:, 1], c=y_train, s=100, cmap='autumn')"
      ],
      "execution_count": 0,
      "outputs": [
        {
          "output_type": "execute_result",
          "data": {
            "text/plain": [
              "<matplotlib.collections.PathCollection at 0x7f9a0fe18d30>"
            ]
          },
          "metadata": {
            "tags": []
          },
          "execution_count": 7
        },
        {
          "output_type": "display_data",
          "data": {
            "image/png": "[encoded data removed]",
            "text/plain": [
              "<Figure size 432x288 with 1 Axes>"
            ]
          },
          "metadata": {
            "tags": []
          }
        }
      ]
    },
    {
      "cell_type": "code",
      "metadata": {
        "id": "2VGCjlj4CRRZ",
        "colab_type": "code",
        "colab": {}
      },
      "source": [
        ""
      ],
      "execution_count": 0,
      "outputs": []
    },
    {
      "cell_type": "code",
      "metadata": {
        "id": "d0RII8KdBeIY",
        "colab_type": "code",
        "outputId": "231501dd-a5ee-4d74-8fc5-b570d9f2d464",
        "colab": {
          "base_uri": "https://localhost:8080/",
          "height": 85
        }
      },
      "source": [
        "\n",
        "# параметр min_samples_leaf указывает, при каком минимальном количестве\n",
        "# элементов в узле он будет дальше разделяться\n",
        "clf = DecisionTreeClassifier(criterion='gini')\n",
        "clf.fit(X_train, y_train)\n",
        "\n",
        "from sklearn import tree\n",
        "clf2 = tree.DecisionTreeClassifier(criterion='entropy')\n",
        "clf2.fit(X_train, y_train)\n",
        "print('Accuracy: \\n', clf.score(X_test, y_test))\n",
        "print('Accuracy 2: \\n', clf2.score(X_test, y_test))\n"
      ],
      "execution_count": 0,
      "outputs": [
        {
          "output_type": "stream",
          "text": [
            "Accuracy: \n",
            " 0.4074074074074074\n",
            "Accuracy 2: \n",
            " 0.40046296296296297\n"
          ],
          "name": "stdout"
        }
      ]
    },
    {
      "cell_type": "code",
      "metadata": {
        "id": "mX6Jj-BnzNv2",
        "colab_type": "code",
        "outputId": "80c5febb-6a3d-4841-d7e5-1387aa26f51b",
        "colab": {
          "base_uri": "https://localhost:8080/",
          "height": 119
        }
      },
      "source": [
        "clf"
      ],
      "execution_count": 0,
      "outputs": [
        {
          "output_type": "execute_result",
          "data": {
            "text/plain": [
              "DecisionTreeClassifier(ccp_alpha=0.0, class_weight=None, criterion='gini',\n",
              "                       max_depth=None, max_features=None, max_leaf_nodes=None,\n",
              "                       min_impurity_decrease=0.0, min_impurity_split=None,\n",
              "                       min_samples_leaf=100, min_samples_split=2,\n",
              "                       min_weight_fraction_leaf=0.0, presort='deprecated',\n",
              "                       random_state=None, splitter='best')"
            ]
          },
          "metadata": {
            "tags": []
          },
          "execution_count": 18
        }
      ]
    },
    {
      "cell_type": "code",
      "metadata": {
        "id": "f0VFNRUWV3zH",
        "colab_type": "code",
        "outputId": "fe43edd4-0889-4f87-8153-bb9e124c3969",
        "colab": {
          "base_uri": "https://localhost:8080/",
          "height": 187
        }
      },
      "source": [
        "from sklearn.linear_model import LogisticRegression\n",
        "logistic = LogisticRegression()\n",
        "logistic.fit(X_train, y_train)\n",
        "logistic.score(X_test, y_test)\n",
        "#print('Coefficient: \\n', logistic.coef_)\n",
        "#print('Intercept: \\n', logistic.intercept_)\n",
        "print('R² Value: \\n', logistic.score(X_test, y_test))"
      ],
      "execution_count": 0,
      "outputs": [
        {
          "output_type": "stream",
          "text": [
            "R² Value: \n",
            " 0.4027777777777778\n"
          ],
          "name": "stdout"
        },
        {
          "output_type": "stream",
          "text": [
            "/usr/local/lib/python3.6/dist-packages/sklearn/linear_model/_logistic.py:940: ConvergenceWarning: lbfgs failed to converge (status=1):\n",
            "STOP: TOTAL NO. of ITERATIONS REACHED LIMIT.\n",
            "\n",
            "Increase the number of iterations (max_iter) or scale the data as shown in:\n",
            "    https://scikit-learn.org/stable/modules/preprocessing.html\n",
            "Please also refer to the documentation for alternative solver options:\n",
            "    https://scikit-learn.org/stable/modules/linear_model.html#logistic-regression\n",
            "  extra_warning_msg=_LOGISTIC_SOLVER_CONVERGENCE_MSG)\n"
          ],
          "name": "stderr"
        }
      ]
    },
    {
      "cell_type": "code",
      "metadata": {
        "id": "Livm3B6R3NB-",
        "colab_type": "code",
        "outputId": "97ec2b0b-14e3-4254-a7a3-3432e6411e69",
        "colab": {
          "base_uri": "https://localhost:8080/",
          "height": 51
        }
      },
      "source": [
        "from sklearn import svm\n",
        "support = svm.SVC()\n",
        "support.fit(X_train, y_train)\n",
        "print('Accuracy: \\n', support.score(X_test, y_test))\n",
        "pred = support.predict(X_test)"
      ],
      "execution_count": 0,
      "outputs": [
        {
          "output_type": "stream",
          "text": [
            "Accuracy: \n",
            " 0.2777777777777778\n"
          ],
          "name": "stdout"
        }
      ]
    },
    {
      "cell_type": "code",
      "metadata": {
        "id": "ZWeI55OHB3B7",
        "colab_type": "code",
        "outputId": "f499f77b-58a2-445c-d549-21bd370e5ea1",
        "colab": {
          "base_uri": "https://localhost:8080/",
          "height": 34
        }
      },
      "source": [
        "from sklearn.ensemble import RandomForestClassifier\n",
        "RF = RandomForestClassifier()\n",
        "RF.fit(X_train, y_train)\n",
        "print(RF.score(X_test, y_test))"
      ],
      "execution_count": 0,
      "outputs": [
        {
          "output_type": "stream",
          "text": [
            "0.6041666666666666\n"
          ],
          "name": "stdout"
        }
      ]
    },
    {
      "cell_type": "code",
      "metadata": {
        "id": "ScWbuGvUJMTi",
        "colab_type": "code",
        "outputId": "83cfdacb-9feb-4aa9-cfb1-4be21aadc41a",
        "colab": {
          "base_uri": "https://localhost:8080/",
          "height": 340
        }
      },
      "source": [
        "RF.get_params()"
      ],
      "execution_count": 0,
      "outputs": [
        {
          "output_type": "execute_result",
          "data": {
            "text/plain": [
              "{'bootstrap': True,\n",
              " 'ccp_alpha': 0.0,\n",
              " 'class_weight': None,\n",
              " 'criterion': 'gini',\n",
              " 'max_depth': None,\n",
              " 'max_features': 'auto',\n",
              " 'max_leaf_nodes': None,\n",
              " 'max_samples': None,\n",
              " 'min_impurity_decrease': 0.0,\n",
              " 'min_impurity_split': None,\n",
              " 'min_samples_leaf': 1,\n",
              " 'min_samples_split': 2,\n",
              " 'min_weight_fraction_leaf': 0.0,\n",
              " 'n_estimators': 100,\n",
              " 'n_jobs': None,\n",
              " 'oob_score': False,\n",
              " 'random_state': None,\n",
              " 'verbose': 0,\n",
              " 'warm_start': False}"
            ]
          },
          "metadata": {
            "tags": []
          },
          "execution_count": 79
        }
      ]
    },
    {
      "cell_type": "code",
      "metadata": {
        "id": "aRn7gQ81MyEd",
        "colab_type": "code",
        "colab": {}
      },
      "source": [
        "parameters = {\n",
        "              'criterion': ['gini', \"entropy\"],               \n",
        "              'n_estimators': [x for x in range(100, 200, 10)],\n",
        "              'class_weight': [\"balanced_subsample\", \"balanced\"]\n",
        " }"
      ],
      "execution_count": 0,
      "outputs": []
    },
    {
      "cell_type": "code",
      "metadata": {
        "id": "Tkglh2UbPUy7",
        "colab_type": "code",
        "outputId": "d2f6a8e1-e11c-47bb-df11-cc2385ff2422",
        "colab": {
          "base_uri": "https://localhost:8080/",
          "height": 34
        }
      },
      "source": [
        "RFclf = GridSearchCV(RF, parameters, n_jobs=-1)\n",
        "RFclf = RFclf.fit(X_train, y_train)\n",
        "print(RFclf.score(X_test, y_test))"
      ],
      "execution_count": 0,
      "outputs": [
        {
          "output_type": "stream",
          "text": [
            "0.6087962962962963\n"
          ],
          "name": "stdout"
        }
      ]
    },
    {
      "cell_type": "code",
      "metadata": {
        "id": "5Kkq16G-Qv_v",
        "colab_type": "code",
        "outputId": "23d83fa4-a4e8-46b3-b7ef-60e07bbeed35",
        "colab": {
          "base_uri": "https://localhost:8080/",
          "height": 442
        }
      },
      "source": [
        "%%time\n",
        "RFclf.fit(X_train, y_train)"
      ],
      "execution_count": 0,
      "outputs": [
        {
          "output_type": "stream",
          "text": [
            "CPU times: user 2.78 s, sys: 43.4 ms, total: 2.83 s\n",
            "Wall time: 1min 35s\n"
          ],
          "name": "stdout"
        },
        {
          "output_type": "execute_result",
          "data": {
            "text/plain": [
              "GridSearchCV(cv=None, error_score=nan,\n",
              "             estimator=RandomForestClassifier(bootstrap=True, ccp_alpha=0.0,\n",
              "                                              class_weight=None,\n",
              "                                              criterion='gini', max_depth=None,\n",
              "                                              max_features='auto',\n",
              "                                              max_leaf_nodes=None,\n",
              "                                              max_samples=None,\n",
              "                                              min_impurity_decrease=0.0,\n",
              "                                              min_impurity_split=None,\n",
              "                                              min_samples_leaf=1,\n",
              "                                              min_samples_split=2,\n",
              "                                              min_weight_fraction_leaf=0.0,\n",
              "                                              n_estimators=100, n_jobs=None,\n",
              "                                              oob_score=False,\n",
              "                                              random_state=None, verbose=0,\n",
              "                                              warm_start=False),\n",
              "             iid='deprecated', n_jobs=-1,\n",
              "             param_grid={'class_weight': ['balanced_subsample', 'balanced'],\n",
              "                         'criterion': ['gini', 'entropy'],\n",
              "                         'n_estimators': [100, 110, 120, 130, 140, 150, 160,\n",
              "                                          170, 180, 190]},\n",
              "             pre_dispatch='2*n_jobs', refit=True, return_train_score=False,\n",
              "             scoring=None, verbose=0)"
            ]
          },
          "metadata": {
            "tags": []
          },
          "execution_count": 93
        }
      ]
    },
    {
      "cell_type": "code",
      "metadata": {
        "id": "026GPSLwSmFW",
        "colab_type": "code",
        "outputId": "f9fd4389-eaba-453a-8f21-a6d91c7a8575",
        "colab": {
          "base_uri": "https://localhost:8080/",
          "height": 153
        }
      },
      "source": [
        "RFclf.best_estimator_"
      ],
      "execution_count": 0,
      "outputs": [
        {
          "output_type": "execute_result",
          "data": {
            "text/plain": [
              "RandomForestClassifier(bootstrap=True, ccp_alpha=0.0, class_weight='balanced',\n",
              "                       criterion='entropy', max_depth=None, max_features='auto',\n",
              "                       max_leaf_nodes=None, max_samples=None,\n",
              "                       min_impurity_decrease=0.0, min_impurity_split=None,\n",
              "                       min_samples_leaf=1, min_samples_split=2,\n",
              "                       min_weight_fraction_leaf=0.0, n_estimators=140,\n",
              "                       n_jobs=None, oob_score=False, random_state=None,\n",
              "                       verbose=0, warm_start=False)"
            ]
          },
          "metadata": {
            "tags": []
          },
          "execution_count": 94
        }
      ]
    },
    {
      "cell_type": "code",
      "metadata": {
        "id": "lI_iPAocSqtt",
        "colab_type": "code",
        "outputId": "bbd1b2db-0a59-47b2-de81-73dcb028b195",
        "colab": {
          "base_uri": "https://localhost:8080/",
          "height": 34
        }
      },
      "source": [
        "RFclf.best_score_"
      ],
      "execution_count": 0,
      "outputs": [
        {
          "output_type": "execute_result",
          "data": {
            "text/plain": [
              "0.5829762080685681"
            ]
          },
          "metadata": {
            "tags": []
          },
          "execution_count": 96
        }
      ]
    },
    {
      "cell_type": "code",
      "metadata": {
        "id": "SuJxNSAKSwqe",
        "colab_type": "code",
        "outputId": "b6e94941-7c0e-4fdf-d016-66f1b1d797d0",
        "colab": {
          "base_uri": "https://localhost:8080/",
          "height": 34
        }
      },
      "source": [
        "RFclf.best_params_"
      ],
      "execution_count": 0,
      "outputs": [
        {
          "output_type": "execute_result",
          "data": {
            "text/plain": [
              "{'class_weight': 'balanced', 'criterion': 'entropy', 'n_estimators': 140}"
            ]
          },
          "metadata": {
            "tags": []
          },
          "execution_count": 97
        }
      ]
    },
    {
      "cell_type": "code",
      "metadata": {
        "id": "rOGGGOynCXlG",
        "colab_type": "code",
        "outputId": "7ae0e909-e683-4e85-a611-aa06f365814f",
        "colab": {
          "base_uri": "https://localhost:8080/",
          "height": 34
        }
      },
      "source": [
        "from sklearn.ensemble import GradientBoostingClassifier\n",
        "GB = RandomForestClassifier()\n",
        "GB.fit(X_train, y_train)\n",
        "print(GB.score(X_test, y_test))"
      ],
      "execution_count": 0,
      "outputs": [
        {
          "output_type": "stream",
          "text": [
            "0.5972222222222222\n"
          ],
          "name": "stdout"
        }
      ]
    },
    {
      "cell_type": "code",
      "metadata": {
        "id": "Cy2HAC9hJwYp",
        "colab_type": "code",
        "outputId": "d6e8e508-dd35-4ca5-f94a-b3aa0253d2e8",
        "colab": {
          "base_uri": "https://localhost:8080/",
          "height": 340
        }
      },
      "source": [
        "GB.get_params()"
      ],
      "execution_count": 0,
      "outputs": [
        {
          "output_type": "execute_result",
          "data": {
            "text/plain": [
              "{'bootstrap': True,\n",
              " 'ccp_alpha': 0.0,\n",
              " 'class_weight': None,\n",
              " 'criterion': 'gini',\n",
              " 'max_depth': None,\n",
              " 'max_features': 'auto',\n",
              " 'max_leaf_nodes': None,\n",
              " 'max_samples': None,\n",
              " 'min_impurity_decrease': 0.0,\n",
              " 'min_impurity_split': None,\n",
              " 'min_samples_leaf': 1,\n",
              " 'min_samples_split': 2,\n",
              " 'min_weight_fraction_leaf': 0.0,\n",
              " 'n_estimators': 100,\n",
              " 'n_jobs': None,\n",
              " 'oob_score': False,\n",
              " 'random_state': None,\n",
              " 'verbose': 0,\n",
              " 'warm_start': False}"
            ]
          },
          "metadata": {
            "tags": []
          },
          "execution_count": 80
        }
      ]
    },
    {
      "cell_type": "code",
      "metadata": {
        "id": "vsqZuh_dCpIu",
        "colab_type": "code",
        "outputId": "504ef399-20c1-489a-c543-0570b4f7f7b3",
        "colab": {
          "base_uri": "https://localhost:8080/",
          "height": 153
        }
      },
      "source": [
        "X_train[0]\n",
        "\n"
      ],
      "execution_count": 0,
      "outputs": [
        {
          "output_type": "execute_result",
          "data": {
            "text/plain": [
              "array([-7.54981614e+02,  5.98075335e+01,  8.50680062e-01,  1.51803196e+01,\n",
              "       -4.61033438e+00, -5.71079229e-01, -6.45257207e+00, -9.61960558e+00,\n",
              "       -1.10024189e+01,  2.09861334e+00, -4.58931905e+00, -2.46043875e+00,\n",
              "       -8.42583890e+00,  4.88291873e+00, -6.30200238e+00, -4.49906341e+00,\n",
              "       -5.90407176e+00, -1.06380322e+00, -5.07807027e+00, -5.24474227e+00,\n",
              "       -3.27951448e+00, -1.47097660e+00, -6.77624996e+00, -1.67175025e+00,\n",
              "       -3.20446845e+00, -4.05445082e+00, -3.89206312e+00, -1.11029402e+00,\n",
              "       -3.32077399e+00, -1.63231992e+00])"
            ]
          },
          "metadata": {
            "tags": []
          },
          "execution_count": 74
        }
      ]
    }
  ]
}